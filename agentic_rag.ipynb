{
 "cells": [
  {
   "cell_type": "markdown",
   "id": "f5115106",
   "metadata": {},
   "source": [
    "## Agentic RAG using LangGraph\n",
    "\n",
    "1. Data Ingestion : Load, chunk and save the embeddings to vector DB\n",
    "2. Create the llm with retriver tool, grade the retrived documents, and rewrite the question"
   ]
  },
  {
   "cell_type": "markdown",
   "id": "84a9e515",
   "metadata": {},
   "source": [
    "### 1. Load the enviornment variables (API Keys)"
   ]
  },
  {
   "cell_type": "code",
   "execution_count": 1,
   "id": "eaf95ea5",
   "metadata": {},
   "outputs": [
    {
     "data": {
      "text/plain": [
       "True"
      ]
     },
     "execution_count": 1,
     "metadata": {},
     "output_type": "execute_result"
    }
   ],
   "source": [
    "from dotenv import load_dotenv\n",
    "load_dotenv()"
   ]
  },
  {
   "cell_type": "markdown",
   "id": "68853451",
   "metadata": {},
   "source": [
    "### 2. Create llm and embedding model"
   ]
  },
  {
   "cell_type": "code",
   "execution_count": 2,
   "id": "dfd894e8",
   "metadata": {},
   "outputs": [
    {
     "data": {
      "text/plain": [
       "AIMessage(content='Hello! How can I assist you today?', additional_kwargs={'refusal': None}, response_metadata={'token_usage': {'completion_tokens': 9, 'prompt_tokens': 8, 'total_tokens': 17, 'completion_tokens_details': {'accepted_prediction_tokens': 0, 'audio_tokens': 0, 'reasoning_tokens': 0, 'rejected_prediction_tokens': 0}, 'prompt_tokens_details': {'audio_tokens': 0, 'cached_tokens': 0}}, 'model_name': 'gpt-3.5-turbo-0125', 'system_fingerprint': None, 'id': 'chatcmpl-Bnbb0EsAhM9Ofs3SZ6Mmo440NnMFU', 'service_tier': 'default', 'finish_reason': 'stop', 'logprobs': None}, id='run--74a4d5e3-b94c-4e1c-b70a-ded796436341-0', usage_metadata={'input_tokens': 8, 'output_tokens': 9, 'total_tokens': 17, 'input_token_details': {'audio': 0, 'cache_read': 0}, 'output_token_details': {'audio': 0, 'reasoning': 0}})"
      ]
     },
     "execution_count": 2,
     "metadata": {},
     "output_type": "execute_result"
    }
   ],
   "source": [
    "from langchain_openai import ChatOpenAI\n",
    "llm=ChatOpenAI()\n",
    "llm.invoke(\"Hi\")"
   ]
  },
  {
   "cell_type": "code",
   "execution_count": 3,
   "id": "b818803b",
   "metadata": {},
   "outputs": [
    {
     "data": {
      "text/plain": [
       "1048"
      ]
     },
     "execution_count": 3,
     "metadata": {},
     "output_type": "execute_result"
    }
   ],
   "source": [
    "from langchain_openai import OpenAIEmbeddings\n",
    "embeddings = OpenAIEmbeddings(model=\"text-embedding-3-large\",dimensions=1048)\n",
    "len(embeddings.embed_query(\"Hi\"))"
   ]
  },
  {
   "cell_type": "markdown",
   "id": "bf7380aa",
   "metadata": {},
   "source": [
    "### 3. Data Load, splitting and storing the embdeddings of the splitted chunks into vector DB"
   ]
  },
  {
   "cell_type": "code",
   "execution_count": 4,
   "id": "4fbdf026",
   "metadata": {},
   "outputs": [
    {
     "name": "stderr",
     "output_type": "stream",
     "text": [
      "USER_AGENT environment variable not set, consider setting it to identify your requests.\n"
     ]
    }
   ],
   "source": [
    "from langchain_community.document_loaders import WebBaseLoader\n",
    "from langchain_text_splitters import RecursiveCharacterTextSplitter"
   ]
  },
  {
   "cell_type": "code",
   "execution_count": 5,
   "id": "2fcd773e",
   "metadata": {},
   "outputs": [],
   "source": [
    "urls = [\n",
    "    \"https://www.dailypioneer.com/2025/columnists/developed-india---a-vision-for-a--35-trillion-economy-by-2047.html\",\n",
    "    \"https://www.pwc.in/research-and-insights-hub/immersive-outlook/india-at-2047.html\",\n",
    "]"
   ]
  },
  {
   "cell_type": "code",
   "execution_count": 6,
   "id": "1256b00e",
   "metadata": {},
   "outputs": [],
   "source": [
    "docs = [WebBaseLoader(url).load() for url in urls]"
   ]
  },
  {
   "cell_type": "code",
   "execution_count": 7,
   "id": "149ed033",
   "metadata": {},
   "outputs": [],
   "source": [
    "text_splitter=RecursiveCharacterTextSplitter.from_tiktoken_encoder(chunk_size=100, chunk_overlap=25)"
   ]
  },
  {
   "cell_type": "code",
   "execution_count": 8,
   "id": "cd4a9192",
   "metadata": {},
   "outputs": [],
   "source": [
    "\n",
    "docs_list = [item for sublist in docs for item in sublist]"
   ]
  },
  {
   "cell_type": "code",
   "execution_count": 9,
   "id": "44acb799",
   "metadata": {},
   "outputs": [],
   "source": [
    "chunks=text_splitter.split_documents(documents=docs_list)"
   ]
  },
  {
   "cell_type": "code",
   "execution_count": 10,
   "id": "8c40a06d",
   "metadata": {},
   "outputs": [
    {
     "data": {
      "text/plain": [
       "133"
      ]
     },
     "execution_count": 10,
     "metadata": {},
     "output_type": "execute_result"
    }
   ],
   "source": [
    "len(chunks)"
   ]
  },
  {
   "cell_type": "markdown",
   "id": "f966249e",
   "metadata": {},
   "source": [
    "### Create a vector DB"
   ]
  },
  {
   "cell_type": "code",
   "execution_count": 11,
   "id": "3fbf58b2",
   "metadata": {},
   "outputs": [],
   "source": [
    "from langchain_community.vectorstores import Chroma"
   ]
  },
  {
   "cell_type": "code",
   "execution_count": 12,
   "id": "a844d739",
   "metadata": {},
   "outputs": [],
   "source": [
    "vectorstore=Chroma.from_documents(\n",
    "    documents=chunks,\n",
    "    collection_name=\"rag-chrome\",\n",
    "    embedding=embeddings    \n",
    ")"
   ]
  },
  {
   "cell_type": "code",
   "execution_count": 13,
   "id": "aa7f5054",
   "metadata": {},
   "outputs": [],
   "source": [
    "retriever=vectorstore.as_retriever()"
   ]
  },
  {
   "cell_type": "code",
   "execution_count": 14,
   "id": "95c70daa",
   "metadata": {},
   "outputs": [
    {
     "data": {
      "text/plain": [
       "[Document(metadata={'title': 'Developed India:  A Vision for a $35 Trillion Economy by 2047', 'description': 'India has emerged as the fastest-growing major economy in the world, powered by a bold vision of inclusive development and transformative reforms. It is now poised to join the club of developed nations as its GDP is fourth largest in the world\\n\\nIndia is emerging as an economic superpower. Indiaâ€™s', 'language': 'en', 'source': 'https://www.dailypioneer.com/2025/columnists/developed-india---a-vision-for-a--35-trillion-economy-by-2047.html'}, page_content='For India to reach a developed economy of $35 trillion by 2047, GDP growth of 8 to 11 per cent for 20 years is mandatory for which a holistic and coordinated vision is required. India will become the third-largest economy in the world by 2028. The Indian economy is estimated to be $7 trillion by 2030, $19 trillion by 2040 and $35 trillion by 2047.'),\n",
       " Document(metadata={'source': 'https://www.dailypioneer.com/2025/columnists/developed-india---a-vision-for-a--35-trillion-economy-by-2047.html', 'title': 'Developed India:  A Vision for a $35 Trillion Economy by 2047', 'language': 'en', 'description': 'India has emerged as the fastest-growing major economy in the world, powered by a bold vision of inclusive development and transformative reforms. It is now poised to join the club of developed nations as its GDP is fourth largest in the world\\n\\nIndia is emerging as an economic superpower. Indiaâ€™s'}, page_content='The goal of Developed India 2047 is to make India a fully developed nation on the eve of the 100th anniversary of independence. This ambitious mission focuses on establishing India as an economic, social and political world leader. Achieving the goal is difficult but not impossible. Indian economy will reach $4.5 trillion by the end of 2025. Indiaâ€™s economy can reach $35 trillion by 2047.'),\n",
       " Document(metadata={'source': 'https://www.dailypioneer.com/2025/columnists/developed-india---a-vision-for-a--35-trillion-economy-by-2047.html', 'title': 'Developed India:  A Vision for a $35 Trillion Economy by 2047', 'language': 'en', 'description': 'India has emerged as the fastest-growing major economy in the world, powered by a bold vision of inclusive development and transformative reforms. It is now poised to join the club of developed nations as its GDP is fourth largest in the world\\n\\nIndia is emerging as an economic superpower. Indiaâ€™s'}, page_content='Developed India:  A Vision for a $35 Trillion Economy by 2047\\n\\n\\n \\n\\n \\n\\n\\n \\n\\n\\n\\n\\n\\n\\n\\n\\n\\n\\n\\n\\n\\n\\n\\n\\n\\n\\n\\n\\n\\n\\n\\n\\n\\n\\n\\n\\n\\n\\n\\n\\n\\n\\n\\n\\n\\n\\n\\n\\n\\n\\n\\n\\nClose this menu\\n\\n\\n\\n\\n\\n\\n\\n\\n\\n\\n\\n\\n\\n\\n\\n\\n\\n\\n\\n\\n\\nSunday, 29 June 2025'),\n",
       " Document(metadata={'language': 'en', 'title': 'India@2047 - PwC India\\n', 'source': 'https://www.pwc.in/research-and-insights-hub/immersive-outlook/india-at-2047.html', 'description': 'Twenty-five years from now, it is possible for the world’s largest democracy to exceed a per capita income of USD 26,000, almost 13 times the current level! '}, page_content='India has created a strong economic base and is poised to achieve the status of a developed country over the next 25 years. Our projections indicate that India@2047 can exceed a per capita income of USD 26,000 – almost 13 times the current level. This is both possible and plausible in USD terms and not on purchasing power parity (PPP) terms. Such increased per capita income may be achieved on the basis of:')]"
      ]
     },
     "execution_count": 14,
     "metadata": {},
     "output_type": "execute_result"
    }
   ],
   "source": [
    "retriever.invoke(\"What is India's GDP vision 2047?\")"
   ]
  },
  {
   "cell_type": "markdown",
   "id": "92dbbce9",
   "metadata": {},
   "source": [
    "### 4. Start creating the tools "
   ]
  },
  {
   "cell_type": "code",
   "execution_count": 15,
   "id": "d95dd267",
   "metadata": {},
   "outputs": [],
   "source": [
    "from langchain.tools.retriever import create_retriever_tool"
   ]
  },
  {
   "cell_type": "code",
   "execution_count": 16,
   "id": "bceccb12",
   "metadata": {},
   "outputs": [],
   "source": [
    "retriever_tool = create_retriever_tool(\n",
    "    retriever,\n",
    "    \"retrieve_blog_posts\",\n",
    "    \"Search and return information about India's GDP in 2047\",\n",
    ")"
   ]
  },
  {
   "cell_type": "code",
   "execution_count": 17,
   "id": "d2e49656",
   "metadata": {},
   "outputs": [],
   "source": [
    "tools = [retriever_tool]"
   ]
  },
  {
   "cell_type": "code",
   "execution_count": 18,
   "id": "3cabc902",
   "metadata": {},
   "outputs": [],
   "source": [
    "## Convert the tool to a Node \n",
    "from langgraph.prebuilt import ToolNode\n",
    "\n",
    "retriever_node = ToolNode(tools)"
   ]
  },
  {
   "cell_type": "code",
   "execution_count": 19,
   "id": "022face1",
   "metadata": {},
   "outputs": [],
   "source": [
    "llm_with_tool=llm.bind_tools(tools)"
   ]
  },
  {
   "cell_type": "code",
   "execution_count": 20,
   "id": "58245320",
   "metadata": {},
   "outputs": [
    {
     "data": {
      "text/plain": [
       "AIMessage(content='', additional_kwargs={'tool_calls': [{'id': 'call_WODpEcnlOChAMVjhe9hJmN5H', 'function': {'arguments': '{\"query\":\"India GDP vision 2047\"}', 'name': 'retrieve_blog_posts'}, 'type': 'function'}], 'refusal': None}, response_metadata={'token_usage': {'completion_tokens': 20, 'prompt_tokens': 72, 'total_tokens': 92, 'completion_tokens_details': {'accepted_prediction_tokens': 0, 'audio_tokens': 0, 'reasoning_tokens': 0, 'rejected_prediction_tokens': 0}, 'prompt_tokens_details': {'audio_tokens': 0, 'cached_tokens': 0}}, 'model_name': 'gpt-3.5-turbo-0125', 'system_fingerprint': None, 'id': 'chatcmpl-BnbbDo4XUJF7MPUV21y7jAZNjStrJ', 'service_tier': 'default', 'finish_reason': 'tool_calls', 'logprobs': None}, id='run--5c382676-791a-48ee-becd-703999c52ed1-0', tool_calls=[{'name': 'retrieve_blog_posts', 'args': {'query': 'India GDP vision 2047'}, 'id': 'call_WODpEcnlOChAMVjhe9hJmN5H', 'type': 'tool_call'}], usage_metadata={'input_tokens': 72, 'output_tokens': 20, 'total_tokens': 92, 'input_token_details': {'audio': 0, 'cache_read': 0}, 'output_token_details': {'audio': 0, 'reasoning': 0}})"
      ]
     },
     "execution_count": 20,
     "metadata": {},
     "output_type": "execute_result"
    }
   ],
   "source": [
    "llm_with_tool.invoke(\"What is India's GDP vision 2047?\")"
   ]
  },
  {
   "cell_type": "markdown",
   "id": "c88f379a",
   "metadata": {},
   "source": [
    "### Create Agent"
   ]
  },
  {
   "cell_type": "code",
   "execution_count": 21,
   "id": "6952220e",
   "metadata": {},
   "outputs": [],
   "source": [
    "from typing import Annotated, TypedDict, Sequence\n",
    "from langchain_core.messages import BaseMessage\n",
    "from langgraph.graph.message import add_messages"
   ]
  },
  {
   "cell_type": "code",
   "execution_count": 22,
   "id": "8a7f7d09",
   "metadata": {},
   "outputs": [],
   "source": [
    "class AgentState(TypedDict):\n",
    "    messages : Annotated[Sequence[BaseMessage], add_messages]"
   ]
  },
  {
   "cell_type": "code",
   "execution_count": 23,
   "id": "626903a7",
   "metadata": {},
   "outputs": [],
   "source": [
    "## Node\n",
    "\n",
    "def llm_router(state: AgentState):\n",
    "    \"\"\"Call the model to generate a response based on the current state. Given\n",
    "    the question, it will decide to retrieve using the retriever tool, or simply respond to the user.\"\"\"\n",
    "    \n",
    "    print(\"LLM Router ****\")\n",
    "    message=state[\"messages\"]\n",
    "    last_message=message[-1]\n",
    "    question=last_message.content\n",
    "    response=llm_with_tool.invoke(question)\n",
    "   \n",
    "    return {\"messages\":[response]}\n"
   ]
  },
  {
   "cell_type": "code",
   "execution_count": 24,
   "id": "b3fba9f0",
   "metadata": {},
   "outputs": [],
   "source": [
    "from pydantic import BaseModel, Field\n",
    "class GradeDocuments(BaseModel):\n",
    "    \"\"\"Grade documents using a binary score for relevance check.\"\"\"\n",
    "\n",
    "    grade : str = Field(description=\"Relavance check 'yes' if relavant else 'no' if not relevant\")"
   ]
  },
  {
   "cell_type": "code",
   "execution_count": 25,
   "id": "0750a997",
   "metadata": {},
   "outputs": [],
   "source": [
    "GRADE_PROMPT = (\n",
    "    \"You are a grader assessing relevance of a retrieved document to a user question. \\n \"\n",
    "    \"Here is the retrieved document: \\n\\n {context} \\n\\n\"\n",
    "    \"Here is the user question: {question} \\n\"\n",
    "    \"If the document contains keyword(s) or semantic meaning related to the user question, grade it as relevant. \\n\"\n",
    "    \"Give a binary score 'yes' or 'no' score to indicate whether the document is relevant to the question.\"\n",
    ")"
   ]
  },
  {
   "cell_type": "code",
   "execution_count": null,
   "id": "63df1c46",
   "metadata": {},
   "outputs": [],
   "source": [
    "# def grade_documents(state: AgentState):\n",
    "#     \"\"\"Node which will evalute the retrived documents w.r.t the user query if they are relevant or not\"\"\"\n",
    "\n",
    "#     print(\"*** In Grade Documents***\")\n",
    "\n",
    "#     message=state[\"messages\"]\n",
    "    \n",
    "#     question = message[0].content\n",
    "#     context = message[-1].content\n",
    "#     prompt= GRADE_PROMPT.format(question=question, context=context)\n",
    "\n",
    "#     llm_grader = llm.with_structured_output(GradeDocuments)\n",
    "\n",
    "#     response = llm_grader.invoke({\n",
    "#          [{\"role\": \"user\", \"content\": prompt}]\n",
    "#     })\n",
    "    \n",
    "#     print(\"Post invocation\")\n",
    "\n",
    "#     score = response.grade\n",
    "#     score = \"yes\"\n",
    "\n",
    "#     if score == 'yes':\n",
    "#         return \"generate\"\n",
    "#     else:\n",
    "#         return \"rewrite\"   \n"
   ]
  },
  {
   "cell_type": "code",
   "execution_count": 69,
   "id": "2700f2ff",
   "metadata": {},
   "outputs": [],
   "source": [
    "from langchain.prompts import PromptTemplate"
   ]
  },
  {
   "cell_type": "code",
   "execution_count": 82,
   "id": "a0421456",
   "metadata": {},
   "outputs": [],
   "source": [
    "\n",
    "def grade_documents(state: AgentState):\n",
    "    print(\"----CALL LLM_DECISION_MAKE----\")\n",
    "    llm_with_structure_op=llm.with_structured_output(GradeDocuments)\n",
    "    \n",
    "    prompt=PromptTemplate(\n",
    "        template=\"\"\"You are a grader deciding if a document is relevant to a user’s question.\n",
    "                    Here is the document: {context}\n",
    "                    Here is the user’s question: {question}\n",
    "                    If the document talks about or contains information related to the user’s question, mark it as relevant. \n",
    "                    Give a 'yes' or 'no' answer to show if the document is relevant to the question.\"\"\",\n",
    "                    input_variables=[\"context\", \"question\"]\n",
    "                    )\n",
    "     \n",
    "    chain=prompt|llm_with_structure_op\n",
    "     \n",
    "     \n",
    "    message=state['messages']\n",
    "    \n",
    "    last_message = message[-1]\n",
    "    \n",
    "    question = message[0].content\n",
    "    \n",
    "    docs = last_message.content\n",
    "    \n",
    "    scored_result=chain.invoke({\"question\": question, \"context\": docs})\n",
    "    \n",
    "    score=scored_result.grade\n",
    "     \n",
    "    if score==\"yes\":\n",
    "        print(\"----DECISION: DOCS ARE RELEVANT----\")\n",
    "        return \"generate\"\n",
    "    else:\n",
    "        print(\"----DECISION: DOCS ARE NOT RELEVANT----\")\n",
    "        return \"rewrite\""
   ]
  },
  {
   "cell_type": "code",
   "execution_count": 27,
   "id": "2f409d98",
   "metadata": {},
   "outputs": [],
   "source": [
    "GENERATE_PROMPT = (\n",
    "    \"You are an assistant for question-answering tasks. \"\n",
    "    \"Use the following pieces of retrieved context to answer the question. \"\n",
    "    \"If you don't know the answer, just say that you don't know. \"\n",
    "    \"Use three sentences maximum and keep the answer concise.\\n\"\n",
    "    \"Question: {question} \\n\"\n",
    "    \"Context: {context}\"\n",
    ")\n",
    "\n",
    "def generate_response(state: AgentState):\n",
    "    \"\"\" Node to generate the response for user query based on the retrived data\"\"\"\n",
    "    context=state[\"messages\"][-1].content\n",
    "    question=state[\"messages\"][0].content\n",
    "    prompt =  GENERATE_PROMPT.format(question=question, context=context)    \n",
    "    response = llm.invoke([{\"role\" : \"user\", \"content\": prompt}])\n",
    "    return {\"messages\" : [response]}\n",
    "    \n"
   ]
  },
  {
   "cell_type": "code",
   "execution_count": 28,
   "id": "dde08d9d",
   "metadata": {},
   "outputs": [],
   "source": [
    "REWRITE_PROMPT = (\n",
    "    \"Look at the input and try to reason about the underlying semantic intent / meaning.\\n\"\n",
    "    \"Here is the initial question:\"\n",
    "    \"\\n ------- \\n\"\n",
    "    \"{question}\"\n",
    "    \"\\n ------- \\n\"\n",
    "    \"Formulate an improved question:\"\n",
    ")"
   ]
  },
  {
   "cell_type": "code",
   "execution_count": 29,
   "id": "f3d52512",
   "metadata": {},
   "outputs": [],
   "source": [
    "def rewrite_question(state: AgentState):\n",
    "    \"\"\"Rewrite the original question\"\"\"\n",
    "    messages = state[\"messages\"]\n",
    "    question = messages[0].content\n",
    "    prompt = REWRITE_PROMPT.format(question=question)\n",
    "    response = llm.invoke([{\"role\" : \"user\", \"content\" : prompt}])\n",
    "    return {\"messages\": [{\"role\": \"user\", \"content\": response.content}]}"
   ]
  },
  {
   "cell_type": "code",
   "execution_count": 48,
   "id": "ca88fa61",
   "metadata": {},
   "outputs": [],
   "source": [
    "from langgraph.graph import StateGraph,START,END\n",
    "from langgraph.prebuilt import tools_condition"
   ]
  },
  {
   "cell_type": "code",
   "execution_count": 83,
   "id": "7640c29e",
   "metadata": {},
   "outputs": [],
   "source": [
    "workflow=StateGraph(AgentState)"
   ]
  },
  {
   "cell_type": "code",
   "execution_count": 84,
   "id": "c8d881b4",
   "metadata": {},
   "outputs": [
    {
     "data": {
      "text/plain": [
       "<langgraph.graph.state.StateGraph at 0x1872b805ba0>"
      ]
     },
     "execution_count": 84,
     "metadata": {},
     "output_type": "execute_result"
    }
   ],
   "source": [
    "workflow.add_node(\"llm_router\", llm_router)\n",
    "workflow.add_node(\"retriever\", retriever_node)\n",
    "workflow.add_node(\"generate_response\", generate_response)\n",
    "workflow.add_node(\"rewrite_question\", rewrite_question)\n"
   ]
  },
  {
   "cell_type": "code",
   "execution_count": 85,
   "id": "5636de7a",
   "metadata": {},
   "outputs": [
    {
     "data": {
      "text/plain": [
       "<langgraph.graph.state.StateGraph at 0x1872b805ba0>"
      ]
     },
     "execution_count": 85,
     "metadata": {},
     "output_type": "execute_result"
    }
   ],
   "source": [
    "workflow.add_edge(START, \"llm_router\")\n"
   ]
  },
  {
   "cell_type": "code",
   "execution_count": 86,
   "id": "0956d0c7",
   "metadata": {},
   "outputs": [
    {
     "data": {
      "text/plain": [
       "<langgraph.graph.state.StateGraph at 0x1872b805ba0>"
      ]
     },
     "execution_count": 86,
     "metadata": {},
     "output_type": "execute_result"
    }
   ],
   "source": [
    "workflow.add_conditional_edges(\"llm_router\", \n",
    "                               tools_condition,\n",
    "                                {\n",
    "                               \"tools\":\"retriever\",\n",
    "                               END:END\n",
    "                               })\n"
   ]
  },
  {
   "cell_type": "code",
   "execution_count": 87,
   "id": "6c541cec",
   "metadata": {},
   "outputs": [
    {
     "data": {
      "text/plain": [
       "<langgraph.graph.state.StateGraph at 0x1872b805ba0>"
      ]
     },
     "execution_count": 87,
     "metadata": {},
     "output_type": "execute_result"
    }
   ],
   "source": [
    "\n",
    "workflow.add_conditional_edges(\n",
    "    \"retriever\",\n",
    "    grade_documents,\n",
    "    {\n",
    "        \"generate\": \"generate_response\",\n",
    "        \"rewrite\" : \"rewrite_question\"\n",
    "    }    \n",
    ")\n"
   ]
  },
  {
   "cell_type": "code",
   "execution_count": 88,
   "id": "f117ecfb",
   "metadata": {},
   "outputs": [
    {
     "data": {
      "text/plain": [
       "<langgraph.graph.state.StateGraph at 0x1872b805ba0>"
      ]
     },
     "execution_count": 88,
     "metadata": {},
     "output_type": "execute_result"
    }
   ],
   "source": [
    "\n",
    "workflow.add_edge(\"rewrite_question\", \"llm_router\")\n",
    "workflow.add_edge(\"generate_response\", END)"
   ]
  },
  {
   "cell_type": "code",
   "execution_count": 89,
   "id": "fb1e287c",
   "metadata": {},
   "outputs": [
    {
     "data": {
      "image/png": "[encoded data removed]",
      "text/plain": [
       "<langgraph.graph.state.CompiledStateGraph object at 0x000001872B813BD0>"
      ]
     },
     "execution_count": 89,
     "metadata": {},
     "output_type": "execute_result"
    }
   ],
   "source": [
    "workflow.compile()"
   ]
  },
  {
   "cell_type": "code",
   "execution_count": 90,
   "id": "db68fb62",
   "metadata": {},
   "outputs": [],
   "source": [
    "app = workflow.compile()"
   ]
  },
  {
   "cell_type": "code",
   "execution_count": 93,
   "id": "53b5e209",
   "metadata": {},
   "outputs": [
    {
     "name": "stdout",
     "output_type": "stream",
     "text": [
      "LLM Router ****\n",
      "----CALL LLM_DECISION_MAKE----\n"
     ]
    },
    {
     "name": "stderr",
     "output_type": "stream",
     "text": [
      "c:\\Users\\gauravkkumar\\Documents\\2025\\code\\5_agentic_rag\\venv\\Lib\\site-packages\\langchain_openai\\chat_models\\base.py:1772: UserWarning: Cannot use method='json_schema' with model gpt-3.5-turbo since it doesn't support OpenAI's Structured Output API. You can see supported models here: https://platform.openai.com/docs/guides/structured-outputs#supported-models. To fix this warning, set `method='function_calling'. Overriding to method='function_calling'.\n",
      "  warnings.warn(\n"
     ]
    },
    {
     "name": "stdout",
     "output_type": "stream",
     "text": [
      "----DECISION: DOCS ARE RELEVANT----\n"
     ]
    },
    {
     "data": {
      "text/plain": [
       "\"India's GDP vision for 2047 is to achieve a $35 trillion economy, making it a fully developed nation by its 100th anniversary of independence. The goal involves a holistic and coordinated vision, requiring GDP growth of 8 to 11 per cent for 20 years. India aims to become the third-largest economy in the world by 2028.\""
      ]
     },
     "execution_count": 93,
     "metadata": {},
     "output_type": "execute_result"
    }
   ],
   "source": [
    "app.invoke({\"messages\" : \"What is India's GDP vision 2047?\"})[\"messages\"][-1].content"
   ]
  }
 ],
 "metadata": {
  "kernelspec": {
   "display_name": "Python 3",
   "language": "python",
   "name": "python3"
  },
  "language_info": {
   "codemirror_mode": {
    "name": "ipython",
    "version": 3
   },
   "file_extension": ".py",
   "mimetype": "text/x-python",
   "name": "python",
   "nbconvert_exporter": "python",
   "pygments_lexer": "ipython3",
   "version": "3.13.5"
  }
 },
 "nbformat": 4,
 "nbformat_minor": 5
}
